{
 "cells": [
  {
   "cell_type": "markdown",
   "id": "9c011f8e-c91f-4ed2-9aac-7cec86e4a071",
   "metadata": {},
   "source": [
    "# Working in SymPy\n",
    "\n",
    "`SymPy` is a package for symbolic manipulation of expressions, equations, and calculus. The [website](https://docs.sympy.org/latest/index.html) for `SymPy` has tutorials explaining how things work. You can also use the `help()` and `dir()` functions to explore the properties of the `SymPy` package.\n",
    "\n",
    "The way it is structured is that the different mathematical objects are defined with capital letters (e.g. `Symbol`, `Function`, `Matrix`) while the functions and utilities are defined with lower-case leading letters (e.g. `simplify`, `dsolve`)."
   ]
  },
  {
   "cell_type": "markdown",
   "id": "f02f4bb2-26fe-46c7-b8fb-4336f4c2576e",
   "metadata": {},
   "source": [
    "### 1. **Basic Operations**\n",
    "\n",
    "- `symbols()`: Define symbolic variables for expressions.\n",
    "- `subs()`: Substitute values or expressions for variables.\n",
    "- `sympify()`: Convert strings or Python objects to SymPy expressions.\n",
    "- `evalf()`: Evaluate expressions to floating-point numbers.\n",
    "- `lambdify()`: Convert symbolic expressions to numerical functions (supports backends like NumPy and SciPy).\n"
   ]
  },
  {
   "cell_type": "markdown",
   "id": "c273a14c-4628-42e5-8431-0cbd58476e53",
   "metadata": {},
   "source": [
    "### 2. **Simplifying Expressions**\n",
    "\n",
    "- `simplify()`: Simplify general expressions (algebraic, trigonometric, etc.).\n",
    "- `expand()`: Expand an expression (e.g., expand a polynomial or product).\n",
    "- `factor()`: Factor expressions (e.g., factor a polynomial).\n",
    "- `collect()`: Collect like terms in an expression.\n",
    "- `apart()`: Partial fraction decomposition of rational expressions.\n",
    "- `cancel()`: Cancel common factors in a rational function.\n",
    "- `trigsimp()`: Simplify trigonometric expressions.\n",
    "- `logcombine()`: Combine logarithmic terms into a single expression.\n",
    "- `powsimp()`: Simplify powers and exponents.\n"
   ]
  },
  {
   "cell_type": "markdown",
   "id": "17af0651-4cea-4dee-8b50-ff48f9118935",
   "metadata": {},
   "source": [
    "### 3. **Calculus**\n",
    "\n",
    "#### 3.1 Derivatives\n",
    "- `diff()`: Compute derivatives of expressions (supports higher-order derivatives).\n",
    "\n",
    "#### 3.2 Integrals\n",
    "- `integrate()`: Compute symbolic integrals (both definite and indefinite).\n",
    "- `integrate(f, (var, a, b))`: Compute definite integrals over an interval.\n",
    "  \n",
    "#### 3.3 Limits\n",
    "- `limit()`: Compute the limit of an expression as a variable approaches a value.\n",
    "\n",
    "#### 3.4 Series\n",
    "- `series()`: Expand a function in a Taylor or Laurent series around a point.\n"
   ]
  },
  {
   "cell_type": "markdown",
   "id": "87d5dd3d-d260-4df4-a02b-0e3e1525ffde",
   "metadata": {},
   "source": [
    "### 4. **Linear Algebra**\n",
    "\n",
    "- `Matrix()`: Define symbolic matrices.\n",
    "- `det()`: Compute the determinant of a matrix.\n",
    "- `inv()`: Compute the inverse of a matrix.\n",
    "- `eigenvals()`: Compute eigenvalues of a matrix.\n",
    "- `eigenvects()`: Compute eigenvectors of a matrix.\n",
    "- `solve_linear_system()`: Solve a system of linear equations.\n",
    "- `transpose()`: Transpose a matrix.\n",
    "- `rref()`: Compute the reduced row echelon form of a matrix.\n"
   ]
  },
  {
   "cell_type": "markdown",
   "id": "fcdad056-2414-42d9-844a-ed5dd00f58ec",
   "metadata": {},
   "source": [
    "### 5. **Differential Equations**\n",
    "\n",
    "- `dsolve()`: Solve ordinary differential equations (ODEs).\n",
    "- `Function()`: Define a function that represents the solution of a differential equation.\n",
    "- `Eq()`: Set up an equation (useful for defining differential equations).\n",
    "- `classify_ode()`: Classify an ODE to determine its solution method.\n",
    "- `checkodesol()`: Check whether a solution satisfies a given differential equation.\n"
   ]
  },
  {
   "cell_type": "markdown",
   "id": "83afdf77-b9ef-49ac-81cb-8808919406cc",
   "metadata": {},
   "source": [
    "### 6. **Solving Equations**\n",
    "\n",
    "- `solve()`: Solve algebraic equations (returns roots or solutions).\n",
    "- `nonlinsolve()`: Solve systems of nonlinear equations.\n",
    "- `linsolve()`: Solve systems of linear equations.\n",
    "- `solvers.solvers.solve()`: A more general solver for symbolic equations.\n",
    "- `solvers.decomp_ineq()`: Decompose inequalities for solving them.\n"
   ]
  },
  {
   "cell_type": "markdown",
   "id": "d553c212-6c9a-4bae-8f59-eac3f40886b5",
   "metadata": {},
   "source": [
    "### 7. **Polynomials**\n",
    "\n",
    "- `Poly()`: Create a polynomial object for more control over polynomials.\n",
    "- `degree()`: Get the degree of a polynomial.\n",
    "- `roots()`: Find the roots of a polynomial.\n",
    "- `gcd()`: Compute the greatest common divisor of polynomials.\n",
    "- `lcm()`: Compute the least common multiple of polynomials.\n"
   ]
  },
  {
   "cell_type": "markdown",
   "id": "29b03144-71d0-437e-88f1-bdc36b948df3",
   "metadata": {},
   "source": [
    "### 8. **Trigonometry**\n",
    "\n",
    "- `sin()`, `cos()`, `tan()`: Basic trigonometric functions.\n",
    "- `asin()`, `acos()`, `atan()`: Inverse trigonometric functions.\n",
    "- `expand_trig()`: Expand trigonometric expressions (e.g., using angle addition formulas).\n",
    "- `trigsimp()`: Simplify trigonometric expressions.\n",
    "- `rewrite()`: Rewrite trigonometric functions in terms of other functions (e.g., rewrite `sin(x)` in terms of exponential functions).\n"
   ]
  },
  {
   "cell_type": "code",
   "execution_count": 31,
   "id": "43a2b1f1-2d65-47ba-9023-0fdac9ab51de",
   "metadata": {},
   "outputs": [],
   "source": [
    "import numpy as np\n"
   ]
  },
  {
   "cell_type": "markdown",
   "id": "00b21f75-b3d3-4452-83b2-c9e95ae4a2ca",
   "metadata": {},
   "source": [
    "### Here's an example of how to solve a quadratic equation"
   ]
  },
  {
   "cell_type": "code",
   "execution_count": 22,
   "id": "1292573a-ec37-405d-b771-6148870a5196",
   "metadata": {},
   "outputs": [
    {
     "data": {
      "text/plain": [
       "[(-b - sqrt(-4*a*c + b**2))/(2*a), (-b + sqrt(-4*a*c + b**2))/(2*a)]"
      ]
     },
     "execution_count": 22,
     "metadata": {},
     "output_type": "execute_result"
    }
   ],
   "source": [
    "import sympy as sp\n",
    "\n",
    "# Define the symbolic variables\n",
    "a, b, c, x = sp.symbols('a b c x')\n",
    "\n",
    "# Define the quadratic equation: ax^2 + bx + c = 0\n",
    "quadratic_eq = sp.Eq(a*x**2 + b*x + c, 0)\n",
    "\n",
    "# Solve the quadratic equation for x\n",
    "solutions = sp.solve(quadratic_eq, x)\n",
    "\n",
    "# Display the solutions\n",
    "solutions\n"
   ]
  },
  {
   "cell_type": "markdown",
   "id": "6f130c0d-870b-4e8e-b398-f4a3ea395e30",
   "metadata": {},
   "source": [
    "### Here's an example of how to solve a differential equation"
   ]
  },
  {
   "cell_type": "code",
   "execution_count": 1,
   "id": "1d908ff4-300b-41da-b3a2-e4b466632edb",
   "metadata": {},
   "outputs": [
    {
     "data": {
      "text/latex": [
       "$\\displaystyle y{\\left(x \\right)} = y_{0} e^{- \\frac{b x}{a}} e^{\\frac{b x_{0}}{a}}$"
      ],
      "text/plain": [
       "Eq(y(x), y0*exp(-b*x/a)*exp(b*x0/a))"
      ]
     },
     "execution_count": 1,
     "metadata": {},
     "output_type": "execute_result"
    }
   ],
   "source": [
    "import sympy as sp\n",
    "\n",
    "# Define the symbolic variables and function\n",
    "x, x0, y0, a, b = sp.symbols('x x0 y0 a b')  # Independent variable, constants, initial condition\n",
    "y = sp.Function('y')(x)  # Dependent variable y as a function of x\n",
    "\n",
    "# Define the first-order differential equation: a*y' + b*y = 0\n",
    "diff_eq = sp.Eq(a * y.diff(x) + b * y, 0)\n",
    "\n",
    "# Solve the differential equation\n",
    "general_solution = sp.dsolve(diff_eq, y)\n",
    "\n",
    "# Extract the solution for y(x)\n",
    "solution_y = general_solution.rhs\n",
    "\n",
    "# Apply the initial condition: y(x0) = y0\n",
    "initial_condition = sp.Eq(solution_y.subs(x, x0), y0)\n",
    "\n",
    "# Solve for the constant C1\n",
    "C1_value = sp.solve(initial_condition, sp.symbols('C1'))[0]\n",
    "\n",
    "# Substitute C1 back into the general solution\n",
    "solution_with_ic = general_solution.subs(sp.symbols('C1'), C1_value)\n",
    "\n",
    "# Display the solution with initial conditions\n",
    "solution_with_ic\n"
   ]
  },
  {
   "cell_type": "markdown",
   "id": "3cc4df62-649e-44a5-8162-29d985bff03d",
   "metadata": {},
   "source": [
    "## Assignment (1): Use `SymPy` to test the solutions we derived in class last week. \n",
    "\n",
    "$Q_{tr} = A e^{-\\gamma t} cos(\\omega_\\gamma t) + B e^{-\\gamma t} sin(\\omega_\\gamma t)$\n",
    "\n",
    "and \n",
    "\n",
    "$Q_{st} = \\bar{C} cos(\\omega t - \\phi)$\n",
    "\n",
    "where\n",
    "\n",
    "$\\omega_\\gamma = \\sqrt{\\omega_0^2 - \\gamma^2}$,\n",
    "\n",
    "$\\bar{C} = \\frac{F_0/m}{\\sqrt{(\\omega_0^2-\\omega^2)^2+4\\gamma^2\\omega^2}}$,\n",
    "\n",
    "and\n",
    "\n",
    "$tan(\\phi) = \\frac{2\\gamma\\omega}{\\omega_0^2-\\omega^2}$"
   ]
  },
  {
   "cell_type": "markdown",
   "id": "cf3613f6-12b4-4579-adca-0fc7b84cbf9a",
   "metadata": {},
   "source": [
    "Lecture notes:\n",
    "Check that\n",
    "\n",
    "Q_tr = e^{-\\gamma t} ...\n",
    "\n",
    "with\n",
    "\n",
    "$omega_gamma = $\n",
    "\n",
    "\n",
    "is a solution to\n",
    "\n",
    "\n",
    "$\\ddot{Q} + 2 \\gamma \\dot{Q} + \\omega_0^2 Q = 0$"
   ]
  },
  {
   "cell_type": "code",
   "execution_count": null,
   "id": "fae79f66-2f75-4d10-8b56-a1a3f0116616",
   "metadata": {},
   "outputs": [],
   "source": [
    "#import needed modules/ligbraries (sympy)\n",
    "#def variables\n",
    "#define dif eq\n",
    "#define quess for sltn\n",
    "#plug our guess into sltn; includes taking derivatives 2x\n"
   ]
  },
  {
   "cell_type": "code",
   "execution_count": 74,
   "id": "54c62722-0304-4687-92b2-dbc1990bb6e8",
   "metadata": {
    "scrolled": true
   },
   "outputs": [
    {
     "data": {
      "text/latex": [
       "$\\displaystyle 2 \\gamma \\left(- \\gamma \\left(A \\cos{\\left(t \\sqrt{- \\gamma^{2} + \\omega_{0}^{2}} \\right)} + B \\sin{\\left(t \\sqrt{- \\gamma^{2} + \\omega_{0}^{2}} \\right)}\\right) e^{- \\gamma t} + \\left(- A \\sqrt{- \\gamma^{2} + \\omega_{0}^{2}} \\sin{\\left(t \\sqrt{- \\gamma^{2} + \\omega_{0}^{2}} \\right)} + B \\sqrt{- \\gamma^{2} + \\omega_{0}^{2}} \\cos{\\left(t \\sqrt{- \\gamma^{2} + \\omega_{0}^{2}} \\right)}\\right) e^{- \\gamma t}\\right) + \\omega_{0}^{2} \\left(A \\cos{\\left(t \\sqrt{- \\gamma^{2} + \\omega_{0}^{2}} \\right)} + B \\sin{\\left(t \\sqrt{- \\gamma^{2} + \\omega_{0}^{2}} \\right)}\\right) e^{- \\gamma t} + \\left(\\gamma^{2} \\left(A \\cos{\\left(t \\sqrt{- \\gamma^{2} + \\omega_{0}^{2}} \\right)} + B \\sin{\\left(t \\sqrt{- \\gamma^{2} + \\omega_{0}^{2}} \\right)}\\right) + 2 \\gamma \\sqrt{- \\gamma^{2} + \\omega_{0}^{2}} \\left(A \\sin{\\left(t \\sqrt{- \\gamma^{2} + \\omega_{0}^{2}} \\right)} - B \\cos{\\left(t \\sqrt{- \\gamma^{2} + \\omega_{0}^{2}} \\right)}\\right) - \\left(- \\gamma^{2} + \\omega_{0}^{2}\\right) \\left(A \\cos{\\left(t \\sqrt{- \\gamma^{2} + \\omega_{0}^{2}} \\right)} + B \\sin{\\left(t \\sqrt{- \\gamma^{2} + \\omega_{0}^{2}} \\right)}\\right)\\right) e^{- \\gamma t}$"
      ],
      "text/plain": [
       "2*gamma*(-gamma*(A*cos(t*sqrt(-gamma**2 + omega_0**2)) + B*sin(t*sqrt(-gamma**2 + omega_0**2)))*exp(-gamma*t) + (-A*sqrt(-gamma**2 + omega_0**2)*sin(t*sqrt(-gamma**2 + omega_0**2)) + B*sqrt(-gamma**2 + omega_0**2)*cos(t*sqrt(-gamma**2 + omega_0**2)))*exp(-gamma*t)) + omega_0**2*(A*cos(t*sqrt(-gamma**2 + omega_0**2)) + B*sin(t*sqrt(-gamma**2 + omega_0**2)))*exp(-gamma*t) + (gamma**2*(A*cos(t*sqrt(-gamma**2 + omega_0**2)) + B*sin(t*sqrt(-gamma**2 + omega_0**2))) + 2*gamma*sqrt(-gamma**2 + omega_0**2)*(A*sin(t*sqrt(-gamma**2 + omega_0**2)) - B*cos(t*sqrt(-gamma**2 + omega_0**2))) - (-gamma**2 + omega_0**2)*(A*cos(t*sqrt(-gamma**2 + omega_0**2)) + B*sin(t*sqrt(-gamma**2 + omega_0**2))))*exp(-gamma*t)"
      ]
     },
     "execution_count": 74,
     "metadata": {},
     "output_type": "execute_result"
    }
   ],
   "source": [
    "A, B, gamma, omega_0, omega_gamma, t = sp.symbols(\"A, B, gamma, omega_0, omega_gamma, t\", real = True)\n",
    "Q = sp.Function(\"Q\")(t)\n",
    "\n",
    "#define diff eq as lhs, must = 0 (F0 = 0)\n",
    "\n",
    "sp.diff(Q, t, 2)  + 2 * gamma * sp.diff(Q, t, 1) + (omega_0**2) *Q\n",
    "\n",
    "#sp.diff(Q as a function of t; 2nd deriv)\n",
    "\n",
    "#Q_tr guess:\n",
    "\n",
    "Q_tr_guess = sp.exp(-gamma*t) * (A * sp.cos(omega_gamma *t) + B * sp.sin(omega_gamma *t) )\n",
    "\n",
    "diff_eqn_test = sp.diff(Q_tr_guess, t, 2) + 2*gamma*sp.diff(Q_tr_guess, t, 1) + (omega_0**2)*Q_tr_guess\n",
    "\n",
    "#print(dir(diff_eqn_test)\n",
    "omega_gamma_expr = sp.sqrt(omega_0 **2 - gamma**2)\n",
    "                           \n",
    "diff_eqn_test.subs(omega_gamma, omega_gamma_expr).simplify().is_zero\n",
    "\n",
    "test_result = diff_eqn_test.subs(omega_gamma, omega_gamma_expr)\n",
    "test_result\n",
    "\n",
    "#putting sltn 0 made better"
   ]
  },
  {
   "cell_type": "markdown",
   "id": "5c0493fb-66ef-41fc-9e8c-751842a82a35",
   "metadata": {},
   "source": [
    "## defiving steadt sltn to damped, driven harm osc\n",
    "\n",
    "want to solve\n",
    "\n",
    "$\\ddot{Q} + 2\\gamma \\dot{Q} + omega_0^2 Q = (F_0/m) e^{i\\omega t}$\n",
    "\n",
    "with \n",
    "\n",
    "$Q = C e ^{i \\omega t}$\n",
    "\n"
   ]
  },
  {
   "cell_type": "code",
   "execution_count": 84,
   "id": "ea472410-8a8c-4b99-bf4a-4c0955c271b1",
   "metadata": {},
   "outputs": [],
   "source": [
    "#import needed mods/packages\n",
    "#def variables and functions\n",
    "\n",
    "t, omega_0, gamma, omega, F_0, m = sp.symbols(\"t, omega_0, omega, gamma, F_0, m\", real=True) #can organize better/do different lines\n",
    "C = sp.symbols(\"C\", comlex = True)\n",
    "Q = sp.Function(\"Q\")(t)\n",
    "F = sp.Function(\"F\")(t)\n",
    "\n",
    "#define diff eq\n",
    "\n",
    "diff_eqn_ref = sp.Eq(\n",
    "    sp.diff(Q, t, 2) + 2*gamma*sp.diff(Q, t, 1) + (omega_0**2) * Q, #LHS\n",
    "    F/m #RHS\n",
    ")\n",
    "\n",
    "\n",
    "##### use to check that it's rightdiff_eqn_ref\n",
    "\n",
    "\n",
    "#define guess\n",
    "\n",
    "Q_st_guess = C*sp.exp(\n",
    "    sp.I*omega*t)\n",
    "\n",
    "drive_expr = (F_0/m)*sp.exp(sp.I*omega*t)\n",
    "#plug guess in\n",
    "\n",
    "diff_eqn_ = sp.Eq(\n",
    "    sp.diff(Q_st_guess, t, 2) 2*gamma*sp.diff(Q_tr_guess, t, 1) + (omega_0**2)*Q_tr_guess\n",
    "\n",
    "#solve for coeff., C\n",
    "#find the real part of the sltn\n",
    "#plug in real part of sltn to diff.eq\n",
    "#test alternative (analytic) form of sltn\n",
    "\n",
    "#stuff to try on slts... sp.expand... go thru functions and see using print(dir(sp))\n",
    "# sp.expand_complex(C_sol*..."
   ]
  },
  {
   "cell_type": "code",
   "execution_count": 50,
   "id": "acbdddf9-70cf-43bf-9fd0-0716bac5cefd",
   "metadata": {},
   "outputs": [],
   "source": [
    "#Experimenting with functions\n",
    "\n",
    "#Deriving Q_tr\n",
    "\n",
    "#def variables\n",
    "A, B, t, e, omega_gamma, gamma = sp.symbols('A B t e omega_gamma, gamma')\n",
    "\n",
    "Q_t = sp.Function('Q')(t)\n",
    "\n",
    "#def eq; must include \"as a function of Q\" by: sp.eq(..., Q)\n",
    "\n",
    "#add e^...\n",
    "#same as numpy for np.cos, just sp.cos\n",
    "\n",
    "Q_t = sp.Eq(A * e ** (-gamma * t) * sp.cos(omega_gamma * t) + B * e ** (-gamma * t) * sp.sin(omega_gamma * t)  , Q)\n",
    "\n",
    "solution = sp.diff(Q_t, Q)\n",
    "\n",
    "\n",
    "\n",
    "\n",
    "\n"
   ]
  },
  {
   "cell_type": "markdown",
   "id": "7abe929c-4ca7-4690-84b6-216369e0c4a1",
   "metadata": {},
   "source": [
    "## Assignment (2): Create representative plots of $\\bar{C}$ and $\\phi$ \n"
   ]
  },
  {
   "cell_type": "code",
   "execution_count": null,
   "id": "fa807cb1-d940-4d81-a6a2-f07ccfc31bb0",
   "metadata": {},
   "outputs": [],
   "source": []
  }
 ],
 "metadata": {
  "kernelspec": {
   "display_name": "Python 3 (ipykernel)",
   "language": "python",
   "name": "python3"
  },
  "language_info": {
   "codemirror_mode": {
    "name": "ipython",
    "version": 3
   },
   "file_extension": ".py",
   "mimetype": "text/x-python",
   "name": "python",
   "nbconvert_exporter": "python",
   "pygments_lexer": "ipython3",
   "version": "3.9.19"
  }
 },
 "nbformat": 4,
 "nbformat_minor": 5
}
