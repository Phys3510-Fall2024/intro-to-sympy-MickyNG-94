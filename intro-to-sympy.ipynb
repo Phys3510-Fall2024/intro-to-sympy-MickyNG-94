{
 "cells": [
  {
   "cell_type": "markdown",
   "id": "9c011f8e-c91f-4ed2-9aac-7cec86e4a071",
   "metadata": {},
   "source": [
    "# Working in SymPy\n",
    "\n",
    "`SymPy` is a package for symbolic manipulation of expressions, equations, and calculus. The [website](https://docs.sympy.org/latest/index.html) for `SymPy` has tutorials explaining how things work. You can also use the `help()` and `dir()` functions to explore the properties of the `SymPy` package.\n",
    "\n",
    "The way it is structured is that the different mathematical objects are defined with capital letters (e.g. `Symbol`, `Function`, `Matrix`) while the functions and utilities are defined with lower-case leading letters (e.g. `simplify`, `dsolve`)."
   ]
  },
  {
   "cell_type": "markdown",
   "id": "f02f4bb2-26fe-46c7-b8fb-4336f4c2576e",
   "metadata": {},
   "source": [
    "### 1. **Basic Operations**\n",
    "\n",
    "- `symbols()`: Define symbolic variables for expressions.\n",
    "- `subs()`: Substitute values or expressions for variables.\n",
    "- `sympify()`: Convert strings or Python objects to SymPy expressions.\n",
    "- `evalf()`: Evaluate expressions to floating-point numbers.\n",
    "- `lambdify()`: Convert symbolic expressions to numerical functions (supports backends like NumPy and SciPy).\n"
   ]
  },
  {
   "cell_type": "markdown",
   "id": "c273a14c-4628-42e5-8431-0cbd58476e53",
   "metadata": {},
   "source": [
    "### 2. **Simplifying Expressions**\n",
    "\n",
    "- `simplify()`: Simplify general expressions (algebraic, trigonometric, etc.).\n",
    "- `expand()`: Expand an expression (e.g., expand a polynomial or product).\n",
    "- `factor()`: Factor expressions (e.g., factor a polynomial).\n",
    "- `collect()`: Collect like terms in an expression.\n",
    "- `apart()`: Partial fraction decomposition of rational expressions.\n",
    "- `cancel()`: Cancel common factors in a rational function.\n",
    "- `trigsimp()`: Simplify trigonometric expressions.\n",
    "- `logcombine()`: Combine logarithmic terms into a single expression.\n",
    "- `powsimp()`: Simplify powers and exponents.\n"
   ]
  },
  {
   "cell_type": "markdown",
   "id": "17af0651-4cea-4dee-8b50-ff48f9118935",
   "metadata": {},
   "source": [
    "### 3. **Calculus**\n",
    "\n",
    "#### 3.1 Derivatives\n",
    "- `diff()`: Compute derivatives of expressions (supports higher-order derivatives).\n",
    "\n",
    "#### 3.2 Integrals\n",
    "- `integrate()`: Compute symbolic integrals (both definite and indefinite).\n",
    "- `integrate(f, (var, a, b))`: Compute definite integrals over an interval.\n",
    "  \n",
    "#### 3.3 Limits\n",
    "- `limit()`: Compute the limit of an expression as a variable approaches a value.\n",
    "\n",
    "#### 3.4 Series\n",
    "- `series()`: Expand a function in a Taylor or Laurent series around a point.\n"
   ]
  },
  {
   "cell_type": "markdown",
   "id": "87d5dd3d-d260-4df4-a02b-0e3e1525ffde",
   "metadata": {},
   "source": [
    "### 4. **Linear Algebra**\n",
    "\n",
    "- `Matrix()`: Define symbolic matrices.\n",
    "- `det()`: Compute the determinant of a matrix.\n",
    "- `inv()`: Compute the inverse of a matrix.\n",
    "- `eigenvals()`: Compute eigenvalues of a matrix.\n",
    "- `eigenvects()`: Compute eigenvectors of a matrix.\n",
    "- `solve_linear_system()`: Solve a system of linear equations.\n",
    "- `transpose()`: Transpose a matrix.\n",
    "- `rref()`: Compute the reduced row echelon form of a matrix.\n"
   ]
  },
  {
   "cell_type": "markdown",
   "id": "fcdad056-2414-42d9-844a-ed5dd00f58ec",
   "metadata": {},
   "source": [
    "### 5. **Differential Equations**\n",
    "\n",
    "- `dsolve()`: Solve ordinary differential equations (ODEs).\n",
    "- `Function()`: Define a function that represents the solution of a differential equation.\n",
    "- `Eq()`: Set up an equation (useful for defining differential equations).\n",
    "- `classify_ode()`: Classify an ODE to determine its solution method.\n",
    "- `checkodesol()`: Check whether a solution satisfies a given differential equation.\n"
   ]
  },
  {
   "cell_type": "markdown",
   "id": "83afdf77-b9ef-49ac-81cb-8808919406cc",
   "metadata": {},
   "source": [
    "### 6. **Solving Equations**\n",
    "\n",
    "- `solve()`: Solve algebraic equations (returns roots or solutions).\n",
    "- `nonlinsolve()`: Solve systems of nonlinear equations.\n",
    "- `linsolve()`: Solve systems of linear equations.\n",
    "- `solvers.solvers.solve()`: A more general solver for symbolic equations.\n",
    "- `solvers.decomp_ineq()`: Decompose inequalities for solving them.\n"
   ]
  },
  {
   "cell_type": "markdown",
   "id": "d553c212-6c9a-4bae-8f59-eac3f40886b5",
   "metadata": {},
   "source": [
    "### 7. **Polynomials**\n",
    "\n",
    "- `Poly()`: Create a polynomial object for more control over polynomials.\n",
    "- `degree()`: Get the degree of a polynomial.\n",
    "- `roots()`: Find the roots of a polynomial.\n",
    "- `gcd()`: Compute the greatest common divisor of polynomials.\n",
    "- `lcm()`: Compute the least common multiple of polynomials.\n"
   ]
  },
  {
   "cell_type": "markdown",
   "id": "29b03144-71d0-437e-88f1-bdc36b948df3",
   "metadata": {},
   "source": [
    "### 8. **Trigonometry**\n",
    "\n",
    "- `sin()`, `cos()`, `tan()`: Basic trigonometric functions.\n",
    "- `asin()`, `acos()`, `atan()`: Inverse trigonometric functions.\n",
    "- `expand_trig()`: Expand trigonometric expressions (e.g., using angle addition formulas).\n",
    "- `trigsimp()`: Simplify trigonometric expressions.\n",
    "- `rewrite()`: Rewrite trigonometric functions in terms of other functions (e.g., rewrite `sin(x)` in terms of exponential functions).\n"
   ]
  },
  {
   "cell_type": "code",
   "execution_count": 31,
   "id": "43a2b1f1-2d65-47ba-9023-0fdac9ab51de",
   "metadata": {},
   "outputs": [],
   "source": [
    "import numpy as np\n"
   ]
  },
  {
   "cell_type": "markdown",
   "id": "00b21f75-b3d3-4452-83b2-c9e95ae4a2ca",
   "metadata": {},
   "source": [
    "### Here's an example of how to solve a quadratic equation"
   ]
  },
  {
   "cell_type": "code",
   "execution_count": 22,
   "id": "1292573a-ec37-405d-b771-6148870a5196",
   "metadata": {},
   "outputs": [
    {
     "data": {
      "text/plain": [
       "[(-b - sqrt(-4*a*c + b**2))/(2*a), (-b + sqrt(-4*a*c + b**2))/(2*a)]"
      ]
     },
     "execution_count": 22,
     "metadata": {},
     "output_type": "execute_result"
    }
   ],
   "source": [
    "import sympy as sp\n",
    "\n",
    "# Define the symbolic variables\n",
    "a, b, c, x = sp.symbols('a b c x')\n",
    "\n",
    "# Define the quadratic equation: ax^2 + bx + c = 0\n",
    "quadratic_eq = sp.Eq(a*x**2 + b*x + c, 0)\n",
    "\n",
    "# Solve the quadratic equation for x\n",
    "solutions = sp.solve(quadratic_eq, x)\n",
    "\n",
    "# Display the solutions\n",
    "solutions\n"
   ]
  },
  {
   "cell_type": "markdown",
   "id": "6f130c0d-870b-4e8e-b398-f4a3ea395e30",
   "metadata": {},
   "source": [
    "### Here's an example of how to solve a differential equation"
   ]
  },
  {
   "cell_type": "code",
   "execution_count": 111,
   "id": "1d908ff4-300b-41da-b3a2-e4b466632edb",
   "metadata": {
    "scrolled": true
   },
   "outputs": [
    {
     "data": {
      "text/latex": [
       "$\\displaystyle y{\\left(x \\right)} = y_{0} e^{- \\frac{b x}{a}} e^{\\frac{b x_{0}}{a}}$"
      ],
      "text/plain": [
       "Eq(y(x), y0*exp(-b*x/a)*exp(b*x0/a))"
      ]
     },
     "execution_count": 111,
     "metadata": {},
     "output_type": "execute_result"
    }
   ],
   "source": [
    "import sympy as sp\n",
    "\n",
    "# Define the symbolic variables and function\n",
    "x, x0, y0, a, b = sp.symbols('x x0 y0 a b')  # Independent variable, constants, initial condition\n",
    "y = sp.Function('y')(x)  # Dependent variable y as a function of x\n",
    "\n",
    "# Define the first-order differential equation: a*y' + b*y = 0\n",
    "diff_eq = sp.Eq(a * y.diff(x) + b * y, 0)\n",
    "\n",
    "# Solve the differential equation\n",
    "general_solution = sp.dsolve(diff_eq, y)\n",
    "\n",
    "# Extract the solution for y(x)\n",
    "solution_y = general_solution.rhs\n",
    "\n",
    "# Apply the initial condition: y(x0) = y0\n",
    "initial_condition = sp.Eq(solution_y.subs(x, x0), y0)\n",
    "\n",
    "# Solve for the constant C1\n",
    "C1_value = sp.solve(initial_condition, sp.symbols('C1'))[0]\n",
    "\n",
    "# Substitute C1 back into the general solution\n",
    "solution_with_ic = general_solution.subs(sp.symbols('C1'), C1_value)\n",
    "\n",
    "# Display the solution with initial conditions\n",
    "solution_with_ic\n"
   ]
  },
  {
   "cell_type": "code",
   "execution_count": 144,
   "id": "ad657cba-14da-4185-9e66-f51457147c89",
   "metadata": {
    "scrolled": true
   },
   "outputs": [
    {
     "name": "stdout",
     "output_type": "stream",
     "text": [
      "['Abs', 'AccumBounds', 'Add', 'Adjoint', 'AlgebraicField', 'AlgebraicNumber', 'And', 'AppliedPredicate', 'Array', 'AssumptionsContext', 'Atom', 'AtomicExpr', 'BasePolynomialError', 'Basic', 'BlockDiagMatrix', 'BlockMatrix', 'CC', 'CRootOf', 'Catalan', 'Chi', 'Ci', 'Circle', 'CoercionFailed', 'Complement', 'ComplexField', 'ComplexRegion', 'ComplexRootOf', 'Complexes', 'ComputationFailed', 'ConditionSet', 'Contains', 'CosineTransform', 'Curve', 'DeferredVector', 'DenseNDimArray', 'Derivative', 'Determinant', 'DiagMatrix', 'DiagonalMatrix', 'DiagonalOf', 'Dict', 'DiracDelta', 'DisjointUnion', 'Domain', 'DomainError', 'DotProduct', 'Dummy', 'E', 'E1', 'EPath', 'EX', 'EXRAW', 'Ei', 'Eijk', 'Ellipse', 'EmptySequence', 'EmptySet', 'Eq', 'Equality', 'Equivalent', 'EulerGamma', 'EvaluationFailed', 'ExactQuotientFailed', 'Expr', 'ExpressionDomain', 'ExtraneousFactors', 'FF', 'FF_gmpy', 'FF_python', 'FU', 'FallingFactorial', 'FiniteField', 'FiniteSet', 'FlagError', 'Float', 'FourierTransform', 'FractionField', 'Function', 'FunctionClass', 'FunctionMatrix', 'GF', 'GMPYFiniteField', 'GMPYIntegerRing', 'GMPYRationalField', 'Ge', 'GeneratorsError', 'GeneratorsNeeded', 'GeometryError', 'GoldenRatio', 'GramSchmidt', 'GreaterThan', 'GroebnerBasis', 'Gt', 'HadamardPower', 'HadamardProduct', 'HankelTransform', 'Heaviside', 'HeuristicGCDFailed', 'HomomorphismFailed', 'I', 'ITE', 'Id', 'Identity', 'Idx', 'ImageSet', 'ImmutableDenseMatrix', 'ImmutableDenseNDimArray', 'ImmutableMatrix', 'ImmutableSparseMatrix', 'ImmutableSparseNDimArray', 'Implies', 'Indexed', 'IndexedBase', 'Integer', 'IntegerRing', 'Integers', 'Integral', 'Intersection', 'Interval', 'Inverse', 'InverseCosineTransform', 'InverseFourierTransform', 'InverseHankelTransform', 'InverseLaplaceTransform', 'InverseMellinTransform', 'InverseSineTransform', 'IsomorphismFailed', 'KroneckerDelta', 'KroneckerProduct', 'LC', 'LM', 'LT', 'Lambda', 'LambertW', 'LaplaceTransform', 'Le', 'LessThan', 'LeviCivita', 'Li', 'Limit', 'Line', 'Line2D', 'Line3D', 'Lt', 'MatAdd', 'MatMul', 'MatPow', 'Matrix', 'MatrixBase', 'MatrixExpr', 'MatrixPermute', 'MatrixSlice', 'MatrixSymbol', 'Max', 'MellinTransform', 'Min', 'Mod', 'Monomial', 'Mul', 'MultivariatePolynomialError', 'MutableDenseMatrix', 'MutableDenseNDimArray', 'MutableMatrix', 'MutableSparseMatrix', 'MutableSparseNDimArray', 'N', 'NDimArray', 'Nand', 'Naturals', 'Naturals0', 'Ne', 'NonSquareMatrixError', 'Nor', 'Not', 'NotAlgebraic', 'NotInvertible', 'NotReversible', 'Number', 'NumberSymbol', 'O', 'OmegaPower', 'OneMatrix', 'OperationNotSupported', 'OptionError', 'Options', 'Or', 'Order', 'Ordinal', 'POSform', 'Parabola', 'Permanent', 'PermutationMatrix', 'Piecewise', 'Plane', 'Point', 'Point2D', 'Point3D', 'PoleError', 'PolificationFailed', 'Poly', 'Polygon', 'PolynomialDivisionFailed', 'PolynomialError', 'PolynomialRing', 'Pow', 'PowerSet', 'PrecisionExhausted', 'Predicate', 'Product', 'ProductSet', 'PurePoly', 'PythonFiniteField', 'PythonIntegerRing', 'PythonRational', 'Q', 'QQ', 'QQ_I', 'QQ_gmpy', 'QQ_python', 'Quaternion', 'RR', 'Range', 'Rational', 'RationalField', 'Rationals', 'Ray', 'Ray2D', 'Ray3D', 'RealField', 'RealNumber', 'Reals', 'RefinementFailed', 'RegularPolygon', 'Rel', 'Rem', 'RisingFactorial', 'RootOf', 'RootSum', 'S', 'SOPform', 'SYMPY_DEBUG', 'Segment', 'Segment2D', 'Segment3D', 'SeqAdd', 'SeqFormula', 'SeqMul', 'SeqPer', 'Set', 'ShapeError', 'Shi', 'Si', 'Sieve', 'SineTransform', 'SingularityFunction', 'SparseMatrix', 'SparseNDimArray', 'StrPrinter', 'StrictGreaterThan', 'StrictLessThan', 'Subs', 'Sum', 'Symbol', 'SymmetricDifference', 'SympifyError', 'TableForm', 'Trace', 'Transpose', 'Triangle', 'TribonacciConstant', 'Tuple', 'Unequality', 'UnevaluatedExpr', 'UnificationFailed', 'Union', 'UnivariatePolynomialError', 'UniversalSet', 'Wild', 'WildFunction', 'Xor', 'Ynm', 'Ynm_c', 'ZZ', 'ZZ_I', 'ZZ_gmpy', 'ZZ_python', 'ZeroMatrix', 'Znm', '__all__', '__builtins__', '__cached__', '__doc__', '__file__', '__loader__', '__name__', '__package__', '__path__', '__spec__', '__sympy_debug', '__version__', 'abundance', 'acos', 'acosh', 'acot', 'acoth', 'acsc', 'acsch', 'adjoint', 'airyai', 'airyaiprime', 'airybi', 'airybiprime', 'algebras', 'all_roots', 'andre', 'apart', 'apart_list', 'appellf1', 'apply_finite_diff', 'approximants', 'are_similar', 'arg', 'arity', 'asec', 'asech', 'asin', 'asinh', 'ask', 'assemble_partfrac_list', 'assoc_laguerre', 'assoc_legendre', 'assuming', 'assumptions', 'atan', 'atan2', 'atanh', 'banded', 'bell', 'bernoulli', 'besseli', 'besselj', 'besselk', 'besselsimp', 'bessely', 'beta', 'betainc', 'betainc_regularized', 'binomial', 'binomial_coefficients', 'binomial_coefficients_list', 'block_collapse', 'blockcut', 'bool_map', 'bottom_up', 'bspline_basis', 'bspline_basis_set', 'cacheit', 'calculus', 'cancel', 'capture', 'carmichael', 'cartes', 'casoratian', 'catalan', 'cbrt', 'ccode', 'ceiling', 'centroid', 'chebyshevt', 'chebyshevt_poly', 'chebyshevt_root', 'chebyshevu', 'chebyshevu_poly', 'chebyshevu_root', 'check_assumptions', 'checkodesol', 'checkpdesol', 'checksol', 'classify_ode', 'classify_pde', 'closest_points', 'cofactors', 'collect', 'collect_const', 'combinatorics', 'combsimp', 'comp', 'compose', 'composite', 'compositepi', 'concrete', 'conjugate', 'construct_domain', 'content', 'continued_fraction', 'continued_fraction_convergents', 'continued_fraction_iterator', 'continued_fraction_periodic', 'continued_fraction_reduce', 'convex_hull', 'convolution', 'core', 'cos', 'cosh', 'cosine_transform', 'cot', 'coth', 'count_ops', 'count_roots', 'covering_product', 'csc', 'csch', 'cse', 'cxxcode', 'cycle_length', 'cyclotomic_poly', 'decompogen', 'decompose', 'default_sort_key', 'deg', 'degree', 'degree_list', 'denom', 'derive_by_array', 'det', 'det_quick', 'diag', 'diagonalize_vector', 'dict_merge', 'diff', 'difference_delta', 'differentiate_finite', 'digamma', 'diophantine', 'dirichlet_eta', 'discrete', 'discrete_log', 'discriminant', 'div', 'divisor_count', 'divisor_sigma', 'divisors', 'doctest', 'dotprint', 'dsolve', 'egyptian_fraction', 'elliptic_e', 'elliptic_f', 'elliptic_k', 'elliptic_pi', 'epath', 'erf', 'erf2', 'erf2inv', 'erfc', 'erfcinv', 'erfi', 'erfinv', 'euler', 'euler_equations', 'evalf', 'evaluate', 'exp', 'exp_polar', 'expand', 'expand_complex', 'expand_func', 'expand_log', 'expand_mul', 'expand_multinomial', 'expand_power_base', 'expand_power_exp', 'expand_trig', 'expint', 'exptrigsimp', 'exquo', 'external', 'eye', 'factor', 'factor_list', 'factor_nc', 'factor_terms', 'factorial', 'factorial2', 'factorint', 'factorrat', 'failing_assumptions', 'false', 'farthest_points', 'fcode', 'ff', 'fft', 'fibonacci', 'field', 'field_isomorphism', 'filldedent', 'finite_diff_weights', 'flatten', 'floor', 'fourier_series', 'fourier_transform', 'fps', 'frac', 'fraction', 'fresnelc', 'fresnels', 'fu', 'functions', 'fwht', 'galois_group', 'gamma', 'gammasimp', 'gcd', 'gcd_list', 'gcd_terms', 'gcdex', 'gegenbauer', 'genocchi', 'geometry', 'get_contraction_structure', 'get_indices', 'gff', 'gff_list', 'glsl_code', 'grevlex', 'grlex', 'groebner', 'ground_roots', 'group', 'gruntz', 'hadamard_product', 'half_gcdex', 'hankel1', 'hankel2', 'hankel_transform', 'harmonic', 'has_dups', 'has_variety', 'hermite', 'hermite_poly', 'hermite_prob', 'hermite_prob_poly', 'hessian', 'hn1', 'hn2', 'homogeneous_order', 'horner', 'hyper', 'hyperexpand', 'hypersimilar', 'hypersimp', 'idiff', 'ifft', 'ifwht', 'igcd', 'igrevlex', 'igrlex', 'ilcm', 'ilex', 'im', 'imageset', 'init_printing', 'init_session', 'integer_log', 'integer_nthroot', 'integrals', 'integrate', 'interactive', 'interactive_traversal', 'interpolate', 'interpolating_poly', 'interpolating_spline', 'intersecting_product', 'intersection', 'intervals', 'intt', 'inv_quick', 'inverse_cosine_transform', 'inverse_fourier_transform', 'inverse_hankel_transform', 'inverse_laplace_transform', 'inverse_mellin_transform', 'inverse_mobius_transform', 'inverse_sine_transform', 'invert', 'is_abundant', 'is_amicable', 'is_carmichael', 'is_convex', 'is_decreasing', 'is_deficient', 'is_increasing', 'is_mersenne_prime', 'is_monotonic', 'is_nthpow_residue', 'is_perfect', 'is_primitive_root', 'is_quad_residue', 'is_strictly_decreasing', 'is_strictly_increasing', 'is_zero_dimensional', 'isolate', 'isprime', 'itermonomials', 'jacobi', 'jacobi_normalized', 'jacobi_poly', 'jacobi_symbol', 'jn', 'jn_zeros', 'jordan_cell', 'jscode', 'julia_code', 'kronecker_product', 'kronecker_symbol', 'kroneckersimp', 'laguerre', 'laguerre_poly', 'lambdify', 'laplace_correspondence', 'laplace_initial_conds', 'laplace_transform', 'latex', 'lazy_function', 'lcm', 'lcm_list', 'legendre', 'legendre_poly', 'legendre_symbol', 'lerchphi', 'lex', 'li', 'limit', 'limit_seq', 'line_integrate', 'linear_eq_to_matrix', 'linsolve', 'list2numpy', 'ln', 'log', 'logcombine', 'loggamma', 'logic', 'lowergamma', 'lucas', 'maple_code', 'marcumq', 'mathematica_code', 'mathieuc', 'mathieucprime', 'mathieus', 'mathieusprime', 'mathml', 'matrices', 'matrix2numpy', 'matrix_multiply_elementwise', 'matrix_symbols', 'maximum', 'meijerg', 'mellin_transform', 'memoize_property', 'mersenne_prime_exponent', 'minimal_polynomial', 'minimum', 'minpoly', 'mobius', 'mobius_transform', 'mod_inverse', 'monic', 'motzkin', 'multigamma', 'multiline_latex', 'multinomial_coefficients', 'multipledispatch', 'multiplicity', 'n_order', 'nan', 'nextprime', 'nfloat', 'nonlinsolve', 'not_empty_in', 'npartitions', 'nroots', 'nsimplify', 'nsolve', 'nth_power_roots_poly', 'ntheory', 'nthroot_mod', 'ntt', 'num_digits', 'numbered_symbols', 'numer', 'octave_code', 'ode_order', 'ones', 'oo', 'ord0', 'ordered', 'pager_print', 'parallel_poly_from_expr', 'parse_expr', 'parsing', 'partition', 'pde_separate', 'pde_separate_add', 'pde_separate_mul', 'pdiv', 'pdsolve', 'per', 'perfect_power', 'periodic_argument', 'periodicity', 'permutedims', 'pexquo', 'physics', 'pi', 'piecewise_exclusive', 'piecewise_fold', 'plot', 'plot_backends', 'plot_implicit', 'plot_parametric', 'plotting', 'polar_lift', 'polarify', 'pollard_pm1', 'pollard_rho', 'poly', 'poly_from_expr', 'polygamma', 'polylog', 'polys', 'posify', 'postfixes', 'postorder_traversal', 'powdenest', 'powsimp', 'pprint', 'pprint_try_use_unicode', 'pprint_use_unicode', 'pquo', 'prefixes', 'prem', 'preorder_traversal', 'pretty', 'pretty_print', 'preview', 'prevprime', 'prime', 'prime_decomp', 'prime_valuation', 'primefactors', 'primenu', 'primeomega', 'primepi', 'primerange', 'primitive', 'primitive_element', 'primitive_root', 'primorial', 'principal_branch', 'print_ccode', 'print_fcode', 'print_glsl', 'print_gtk', 'print_jscode', 'print_latex', 'print_maple_code', 'print_mathml', 'print_python', 'print_rcode', 'print_tree', 'printing', 'prod', 'product', 'proper_divisor_count', 'proper_divisors', 'public', 'pycode', 'python', 'quadratic_congruence', 'quadratic_residues', 'quo', 'rad', 'radsimp', 'randMatrix', 'random_poly', 'randprime', 'rational_interpolate', 'ratsimp', 'ratsimpmodprime', 'rcode', 'rcollect', 're', 'real_root', 'real_roots', 'reduce_abs_inequalities', 'reduce_abs_inequality', 'reduce_inequalities', 'reduced', 'reduced_totient', 'refine', 'refine_root', 'register_handler', 'release', 'rem', 'remove_handler', 'reshape', 'residue', 'resultant', 'rf', 'riemann_xi', 'ring', 'root', 'rootof', 'roots', 'rot_axis1', 'rot_axis2', 'rot_axis3', 'rot_ccw_axis1', 'rot_ccw_axis2', 'rot_ccw_axis3', 'rot_givens', 'rotations', 'round_two', 'rsolve', 'rsolve_hyper', 'rsolve_poly', 'rsolve_ratio', 'rust_code', 'satisfiable', 'sec', 'sech', 'separatevars', 'sequence', 'series', 'seterr', 'sets', 'sfield', 'shape', 'sieve', 'sift', 'sign', 'signsimp', 'simplify', 'simplify_logic', 'sin', 'sinc', 'sine_transform', 'singularities', 'singularityintegrate', 'sinh', 'smtlib_code', 'solve', 'solve_linear', 'solve_linear_system', 'solve_linear_system_LU', 'solve_poly_inequality', 'solve_poly_system', 'solve_rational_inequalities', 'solve_triangulated', 'solve_undetermined_coeffs', 'solve_univariate_inequality', 'solvers', 'solveset', 'sqf', 'sqf_list', 'sqf_norm', 'sqf_part', 'sqrt', 'sqrt_mod', 'sqrt_mod_iter', 'sqrtdenest', 'srepr', 'sring', 'sstr', 'sstrrepr', 'stationary_points', 'stieltjes', 'strategies', 'sturm', 'subfactorial', 'subresultants', 'subsets', 'substitution', 'summation', 'swinnerton_dyer_poly', 'symarray', 'symbols', 'symmetric_poly', 'symmetrize', 'sympify', 'take', 'tan', 'tanh', 'tensor', 'tensorcontraction', 'tensordiagonal', 'tensorproduct', 'terms_gcd', 'test', 'testing', 'textplot', 'threaded', 'timed', 'to_cnf', 'to_dnf', 'to_nnf', 'to_number_field', 'together', 'topological_sort', 'total_degree', 'totient', 'trace', 'trailing', 'transpose', 'tribonacci', 'trigamma', 'trigsimp', 'true', 'trunc', 'unbranched_argument', 'unflatten', 'unpolarify', 'uppergamma', 'use', 'utilities', 'var', 'variations', 'vectorize', 'vfield', 'viete', 'vring', 'wronskian', 'xfield', 'xring', 'xthreaded', 'yn', 'zeros', 'zeta', 'zoo']\n"
     ]
    }
   ],
   "source": [
    "print(dir(sp))\n"
   ]
  },
  {
   "cell_type": "markdown",
   "id": "3cc4df62-649e-44a5-8162-29d985bff03d",
   "metadata": {},
   "source": [
    "## Assignment (1): Use `SymPy` to test the solutions we derived in class last week. \n",
    "\n",
    "$Q_{tr} = A e^{-\\gamma t} cos(\\omega_\\gamma t) + B e^{-\\gamma t} sin(\\omega_\\gamma t)$\n",
    "\n",
    "and \n",
    "\n",
    "$Q_{st} = \\bar{C} cos(\\omega t - \\phi)$\n",
    "\n",
    "where\n",
    "\n",
    "$\\omega_\\gamma = \\sqrt{\\omega_0^2 - \\gamma^2}$,\n",
    "\n",
    "$\\bar{C} = \\frac{F_0/m}{\\sqrt{(\\omega_0^2-\\omega^2)^2+4\\gamma^2\\omega^2}}$,\n",
    "\n",
    "and\n",
    "\n",
    "$tan(\\phi) = \\frac{2\\gamma\\omega}{\\omega_0^2-\\omega^2}$"
   ]
  },
  {
   "cell_type": "markdown",
   "id": "cf3613f6-12b4-4579-adca-0fc7b84cbf9a",
   "metadata": {},
   "source": [
    "### Lecture notes:\n",
    "Check that\n",
    "\n",
    "Q_tr = e^{-\\gamma t} ...\n",
    "\n",
    "with\n",
    "\n",
    "omega_gamma\n",
    "\n",
    "\n",
    "is a solution to\n",
    "\n",
    "\n",
    "$\\ddot{Q} + 2 \\gamma \\dot{Q} + \\omega_0^2 Q = 0$"
   ]
  },
  {
   "cell_type": "code",
   "execution_count": null,
   "id": "fae79f66-2f75-4d10-8b56-a1a3f0116616",
   "metadata": {},
   "outputs": [],
   "source": [
    "#import needed modules/ligbraries (sympy)\n",
    "#def variables\n",
    "#define dif eq\n",
    "#define quess for sltn\n",
    "#plug our guess into sltn; includes taking derivatives 2x\n"
   ]
  },
  {
   "cell_type": "code",
   "execution_count": 226,
   "id": "54c62722-0304-4687-92b2-dbc1990bb6e8",
   "metadata": {
    "scrolled": true
   },
   "outputs": [
    {
     "data": {
      "text/latex": [
       "$\\displaystyle 2 \\gamma \\left(- \\gamma \\left(A \\cos{\\left(t \\sqrt{- \\gamma^{2} + \\omega_{0}^{2}} \\right)} + B \\sin{\\left(t \\sqrt{- \\gamma^{2} + \\omega_{0}^{2}} \\right)}\\right) e^{- \\gamma t} + \\left(- A \\sqrt{- \\gamma^{2} + \\omega_{0}^{2}} \\sin{\\left(t \\sqrt{- \\gamma^{2} + \\omega_{0}^{2}} \\right)} + B \\sqrt{- \\gamma^{2} + \\omega_{0}^{2}} \\cos{\\left(t \\sqrt{- \\gamma^{2} + \\omega_{0}^{2}} \\right)}\\right) e^{- \\gamma t}\\right) + \\omega_{0}^{2} \\left(A \\cos{\\left(t \\sqrt{- \\gamma^{2} + \\omega_{0}^{2}} \\right)} + B \\sin{\\left(t \\sqrt{- \\gamma^{2} + \\omega_{0}^{2}} \\right)}\\right) e^{- \\gamma t} + \\left(\\gamma^{2} \\left(A \\cos{\\left(t \\sqrt{- \\gamma^{2} + \\omega_{0}^{2}} \\right)} + B \\sin{\\left(t \\sqrt{- \\gamma^{2} + \\omega_{0}^{2}} \\right)}\\right) + 2 \\gamma \\sqrt{- \\gamma^{2} + \\omega_{0}^{2}} \\left(A \\sin{\\left(t \\sqrt{- \\gamma^{2} + \\omega_{0}^{2}} \\right)} - B \\cos{\\left(t \\sqrt{- \\gamma^{2} + \\omega_{0}^{2}} \\right)}\\right) - \\left(- \\gamma^{2} + \\omega_{0}^{2}\\right) \\left(A \\cos{\\left(t \\sqrt{- \\gamma^{2} + \\omega_{0}^{2}} \\right)} + B \\sin{\\left(t \\sqrt{- \\gamma^{2} + \\omega_{0}^{2}} \\right)}\\right)\\right) e^{- \\gamma t} = 0$"
      ],
      "text/plain": [
       "Eq(2*gamma*(-gamma*(A*cos(t*sqrt(-gamma**2 + omega_0**2)) + B*sin(t*sqrt(-gamma**2 + omega_0**2)))*exp(-gamma*t) + (-A*sqrt(-gamma**2 + omega_0**2)*sin(t*sqrt(-gamma**2 + omega_0**2)) + B*sqrt(-gamma**2 + omega_0**2)*cos(t*sqrt(-gamma**2 + omega_0**2)))*exp(-gamma*t)) + omega_0**2*(A*cos(t*sqrt(-gamma**2 + omega_0**2)) + B*sin(t*sqrt(-gamma**2 + omega_0**2)))*exp(-gamma*t) + (gamma**2*(A*cos(t*sqrt(-gamma**2 + omega_0**2)) + B*sin(t*sqrt(-gamma**2 + omega_0**2))) + 2*gamma*sqrt(-gamma**2 + omega_0**2)*(A*sin(t*sqrt(-gamma**2 + omega_0**2)) - B*cos(t*sqrt(-gamma**2 + omega_0**2))) - (-gamma**2 + omega_0**2)*(A*cos(t*sqrt(-gamma**2 + omega_0**2)) + B*sin(t*sqrt(-gamma**2 + omega_0**2))))*exp(-gamma*t), 0)"
      ]
     },
     "execution_count": 226,
     "metadata": {},
     "output_type": "execute_result"
    }
   ],
   "source": [
    "A, B, t, gamma, omega_0, omega_gamma = sp.symbols(\"A, B, t, gamma, omega_0, omega_gamma\", real = True)\n",
    "Q = sp.Function(\"Q\")(t)\n",
    "\n",
    "#define diff eq as lhs, must = 0 (F0 = 0); no driving force\n",
    "\n",
    "sp.Eq(\n",
    "    sp.diff(Q, t, 2)  + 2 * gamma * sp.diff(Q, t, 1) + (omega_0**2) *Q,\n",
    "    0)\n",
    "\n",
    "#sp.diff(Q as a function of t; 2nd deriv)\n",
    "#Q_tr guess:\n",
    "\n",
    "Q_tr_guess = sp.exp(-gamma*t) * (A * sp.cos(omega_gamma *t) + B * sp.sin(omega_gamma *t) )\n",
    "\n",
    "diff_eqn_test = sp.Eq(\n",
    "    sp.diff(Q_tr_guess, t, 2) + 2*gamma*sp.diff(Q_tr_guess, t, 1) + (omega_0**2)*Q_tr_guess,\n",
    "    0)\n",
    "\n",
    "#print(dir(diff_eqn_test)\n",
    "omega_gamma_expr = sp.sqrt(omega_0 **2 - gamma**2)\n",
    "                           \n",
    "diff_eqn_test.subs(omega_gamma, omega_gamma_expr).simplify().is_zero\n",
    "\n",
    "test_result = diff_eqn_test.subs(omega_gamma, omega_gamma_expr)\n",
    "test_result\n",
    "\n",
    "\n",
    "#putting sltn 0 made better. how?\n",
    "#trying adding sp.Eq(LHS, 0). added it to sltn but still a mess."
   ]
  },
  {
   "cell_type": "markdown",
   "id": "5c0493fb-66ef-41fc-9e8c-751842a82a35",
   "metadata": {},
   "source": [
    "## deriving steady sltn to damped, driven harm osc\n",
    "\n",
    "want to solve\n",
    "\n",
    "$\\ddot{Q} + 2\\gamma \\dot{Q} + \\omega_0^2 Q = (F_0/m) e^{i\\omega t}$\n",
    "\n",
    "with \n",
    "\n",
    "$Q = C e ^{i \\omega t}$\n",
    "\n"
   ]
  },
  {
   "cell_type": "code",
   "execution_count": 237,
   "id": "ea472410-8a8c-4b99-bf4a-4c0955c271b1",
   "metadata": {},
   "outputs": [
    {
     "data": {
      "text/latex": [
       "$\\displaystyle - \\frac{F_{0} \\gamma^{2} e^{i \\gamma t}}{m \\sqrt{4 \\gamma^{2} \\omega^{2} + \\left(\\gamma^{2} - \\omega_{0}^{2}\\right)^{2}}} + \\frac{2 i F_{0} \\gamma \\omega e^{i \\gamma t}}{m \\sqrt{4 \\gamma^{2} \\omega^{2} + \\left(- \\gamma^{2} + \\omega_{0}^{2}\\right)^{2}}} + \\frac{F_{0} \\omega_{0}^{2} e^{i \\gamma t}}{m \\sqrt{4 \\gamma^{2} \\omega^{2} + \\left(- \\gamma^{2} + \\omega_{0}^{2}\\right)^{2}}} = \\frac{F_{0} e^{i \\gamma t}}{m}$"
      ],
      "text/plain": [
       "Eq(-F_0*gamma**2*exp(I*gamma*t)/(m*sqrt(4*gamma**2*omega**2 + (gamma**2 - omega_0**2)**2)) + 2*I*F_0*gamma*omega*exp(I*gamma*t)/(m*sqrt(4*gamma**2*omega**2 + (-gamma**2 + omega_0**2)**2)) + F_0*omega_0**2*exp(I*gamma*t)/(m*sqrt(4*gamma**2*omega**2 + (-gamma**2 + omega_0**2)**2)), F_0*exp(I*gamma*t)/m)"
      ]
     },
     "execution_count": 237,
     "metadata": {},
     "output_type": "execute_result"
    }
   ],
   "source": [
    "#Steady State:\n",
    "#import needed mods/packages\n",
    "#def variables and functions\n",
    "\n",
    "t, omega_0, gamma, omega, F_0, m = sp.symbols(\"t, omega_0, omega, gamma, F_0, m\", real = True) #can organize better/do different lines AN\n",
    "C = sp.symbols(\"C\", complex = True)\n",
    "Q = sp.Function(\"Q\")(t)\n",
    "F = sp.Function(\"F\")(t)\n",
    "\n",
    "#define diff eq\n",
    "\n",
    "sp.Eq(\n",
    "    sp.diff(Q, t, 2) + 2*gamma*sp.diff(Q, t, 1) + (omega_0**2) * Q, #LHS\n",
    "    (F_0/m) * sp.exp(sp.I * omega * t) #RHS \n",
    ")\n",
    "\n",
    "\n",
    "##### use to check that it's rightdiff_eqn_ref\n",
    "#define C\n",
    "\n",
    "C = (F_0/m) / sp.sqrt((omega_0 **2 - omega**2)**2 + 4 * gamma**2 * omega**2)\n",
    "\n",
    "omega_gamma = sp.sqrt(omega_0**2 - gamma**2)\n",
    "\n",
    "#define guess\n",
    "Q_st_guess = C * sp.exp(sp.I * omega * t)\n",
    "\n",
    "drive_expr = (F_0/m) * sp.exp(sp.I*omega*t)\n",
    "\n",
    "#plug guess in\n",
    "\n",
    "diff_eqn_test = sp.Eq(\n",
    "    sp.diff(Q_st_guess, t, 2) + 2*gamma*sp.diff(Q_st_guess, t, 1) + (omega_0**2) * Q_st_guess,\n",
    "    (F_0/m) * sp.exp(sp.I * omega * t)\n",
    ")\n",
    "\n",
    "diff_eqn_test\n",
    "\n",
    "\n",
    "#solve for coeff., C\n",
    "#sp.solve(diff_eqn_test, C)\n",
    "\n",
    "#find the real part of the sltn\n",
    "#plug in real part of sltn to diff.eq\n",
    "#test alternative (analytic) form of sltn\n",
    "\n",
    "#stuff to try on sltns... sp.expand... go thru functions and see using print(dir(sp))\n",
    "# sp.expand_complex(C_sol*..."
   ]
  },
  {
   "cell_type": "code",
   "execution_count": 198,
   "id": "0b3eb52a-4e93-431b-b3d5-3a7e5ad7c844",
   "metadata": {},
   "outputs": [
    {
     "data": {
      "text/plain": [
       "[F_0*(gamma**2 + sqrt(4*gamma**2*omega**2 + (gamma**2 - omega_0**2)**2))/(m*sqrt(4*gamma**2*omega**2 + (gamma**2 - omega_0**2)**2)*(2*I*gamma*omega + omega_0**2))]"
      ]
     },
     "execution_count": 198,
     "metadata": {},
     "output_type": "execute_result"
    }
   ],
   "source": [
    "C_sol = sp.solve(diff_eqn_test, C) #yielded same result as by hand w. above sltn BEFORE adding c and omega_gamma eq values\n",
    "\n",
    "C_sol"
   ]
  },
  {
   "cell_type": "markdown",
   "id": "bafdc0ce-3e12-4efb-b991-68f6b46c29d5",
   "metadata": {},
   "source": [
    " deriving the transient solution:"
   ]
  },
  {
   "cell_type": "code",
   "execution_count": 236,
   "id": "acbdddf9-70cf-43bf-9fd0-0716bac5cefd",
   "metadata": {},
   "outputs": [
    {
     "ename": "TypeError",
     "evalue": "unsupported operand type(s) for *: 'Pow' and 'Equality'",
     "output_type": "error",
     "traceback": [
      "\u001b[1;31m---------------------------------------------------------------------------\u001b[0m",
      "\u001b[1;31mTypeError\u001b[0m                                 Traceback (most recent call last)",
      "Cell \u001b[1;32mIn[236], line 32\u001b[0m\n\u001b[0;32m     27\u001b[0m Q_tr_guess \u001b[38;5;241m=\u001b[39m sp\u001b[38;5;241m.\u001b[39mEq(A \u001b[38;5;241m*\u001b[39m sp\u001b[38;5;241m.\u001b[39mexp(\u001b[38;5;241m-\u001b[39mgamma \u001b[38;5;241m*\u001b[39m t) \u001b[38;5;241m*\u001b[39m sp\u001b[38;5;241m.\u001b[39mcos(omega_gamma \u001b[38;5;241m*\u001b[39m t) \u001b[38;5;241m+\u001b[39m B \u001b[38;5;241m*\u001b[39m sp\u001b[38;5;241m.\u001b[39mexp(\u001b[38;5;241m-\u001b[39mgamma \u001b[38;5;241m*\u001b[39m t) \u001b[38;5;241m*\u001b[39m sp\u001b[38;5;241m.\u001b[39msin(omega_gamma \u001b[38;5;241m*\u001b[39m t), Q)\n\u001b[0;32m     28\u001b[0m \u001b[38;5;66;03m#drive_expr = (F_0/m) * sp.exp(sp.I*omega*t)\u001b[39;00m\n\u001b[0;32m     31\u001b[0m diff_eqn_test \u001b[38;5;241m=\u001b[39m sp\u001b[38;5;241m.\u001b[39mEq(\n\u001b[1;32m---> 32\u001b[0m     sp\u001b[38;5;241m.\u001b[39mdiff(Q_tr_guess, t, \u001b[38;5;241m2\u001b[39m) \u001b[38;5;241m+\u001b[39m \u001b[38;5;241m2\u001b[39m \u001b[38;5;241m*\u001b[39m gamma \u001b[38;5;241m*\u001b[39m sp\u001b[38;5;241m.\u001b[39mdiff(Q_tr_guess, t, \u001b[38;5;241m1\u001b[39m) \u001b[38;5;241m+\u001b[39m \u001b[43m(\u001b[49m\u001b[43momega_gamma\u001b[49m\u001b[38;5;241;43m*\u001b[39;49m\u001b[38;5;241;43m*\u001b[39;49m\u001b[38;5;241;43m2\u001b[39;49m\u001b[43m)\u001b[49m\u001b[43m \u001b[49m\u001b[38;5;241;43m*\u001b[39;49m\u001b[43m \u001b[49m\u001b[43mQ_tr_guess\u001b[49m, \u001b[38;5;66;03m#LHS\u001b[39;00m\n\u001b[0;32m     33\u001b[0m     (F_0\u001b[38;5;241m/\u001b[39mm) \u001b[38;5;241m*\u001b[39m sp\u001b[38;5;241m.\u001b[39mexp(sp\u001b[38;5;241m.\u001b[39mI \u001b[38;5;241m*\u001b[39m omega \u001b[38;5;241m*\u001b[39m t) \u001b[38;5;66;03m#RHS \u001b[39;00m\n\u001b[0;32m     34\u001b[0m )\n\u001b[0;32m     37\u001b[0m \u001b[38;5;66;03m##location of code issue of code identified: doesn't want to take * or + Q_tr_guess at end of diff_eqn_test\u001b[39;00m\n\u001b[0;32m     38\u001b[0m \u001b[38;5;66;03m# error: TypeError: unsupported operand type(s) for *: 'Pow' and 'Equality'\u001b[39;00m\n\u001b[0;32m     39\u001b[0m \u001b[38;5;66;03m#tried replacing Q_tr_guess with sp.Eq(Q_tr_guess, Q)\u001b[39;00m\n",
      "\u001b[1;31mTypeError\u001b[0m: unsupported operand type(s) for *: 'Pow' and 'Equality'"
     ]
    }
   ],
   "source": [
    "#Deriving Q_tr\n",
    "#def variables\n",
    "A, B, t, omega_gamma, gamma = sp.symbols(\"A B t omega_gamma gamma\")\n",
    "Q = sp.Function(\"Q\")(t)\n",
    "F = sp.Function(\"F\")(t)\n",
    "\n",
    "#sp.Eq(\n",
    " #   sp.diff(Q_tr, t, 2) + 2*gamma*sp.diff(Q_tr, t, 1) + (omega_0**2) * Q_tr, #LHS\n",
    "  #  (F_0/m) * sp.exp(sp.I * omega * t) #RHS \n",
    "#)\n",
    "\n",
    "#def diff eq\n",
    "sp.Eq(\n",
    "    sp.diff(Q, t, 2) + 2*gamma*sp.diff(Q, t, 1) + (omega_0**2) * Q, #LHS\n",
    "    (F_0/m) * sp.exp(sp.I * omega * t) #RHS \n",
    ")\n",
    "#\n",
    "\n",
    "Q_tr_guess = sp.Function(\"Q\")(t)\n",
    "\n",
    "#def eq; must include \"as a function of Q\" by: sp.eq(..., Q)\n",
    "#add e^...\n",
    "#same as numpy for np.cos, just sp.cos\n",
    "\n",
    "#tried taking ...,Q) off end of Q_tr_guess\n",
    "Q_tr_guess = sp.Eq(A * sp.exp(-gamma * t) * sp.cos(omega_gamma * t) + B * sp.exp(-gamma * t) * sp.sin(omega_gamma * t), Q)\n",
    "#drive_expr = (F_0/m) * sp.exp(sp.I*omega*t)\n",
    "\n",
    "\n",
    "diff_eqn_test = sp.Eq(\n",
    "    sp.diff(Q_tr_guess, t, 2) + 2 * gamma * sp.diff(Q_tr_guess, t, 1) + (omega_gamma**2) * Q_tr_guess, #LHS\n",
    "    (F_0/m) * sp.exp(sp.I * omega * t) #RHS \n",
    ")\n",
    "\n",
    "\n",
    "##location of code issue of code identified: doesn't want to take * or + Q_tr_guess at end of diff_eqn_test\n",
    "# error: TypeError: unsupported operand type(s) for *: 'Pow' and 'Equality'\n",
    "#tried replacing Q_tr_guess with sp.Eq(Q_tr_guess, Q)\n",
    "\n"
   ]
  },
  {
   "cell_type": "markdown",
   "id": "7abe929c-4ca7-4690-84b6-216369e0c4a1",
   "metadata": {},
   "source": [
    "## Assignment (2): Create representative plots of $\\bar{C}$ and $\\phi$ \n"
   ]
  },
  {
   "cell_type": "markdown",
   "id": "edc55d26-e246-4656-a2bd-87e7db5933a9",
   "metadata": {},
   "source": [
    "$\\bar{C} = \\frac{F_0/m}{\\sqrt{(\\omega_0^2-\\omega^2)^2+4\\gamma^2\\omega^2}}$\n",
    "\n",
    "$tan(\\phi) = \\frac{2\\gamma\\omega}{\\omega_0^2-\\omega^2}$\n"
   ]
  },
  {
   "cell_type": "code",
   "execution_count": 238,
   "id": "fa807cb1-d940-4d81-a6a2-f07ccfc31bb0",
   "metadata": {},
   "outputs": [],
   "source": [
    "import matplotlib.pyplot as plt\n",
    "import numpy as np"
   ]
  },
  {
   "cell_type": "code",
   "execution_count": 241,
   "id": "14c1cb96-ee9a-4e97-b118-52d9af7ae84f",
   "metadata": {
    "collapsed": true,
    "jupyter": {
     "outputs_hidden": true
    },
    "scrolled": true
   },
   "outputs": [
    {
     "data": {
      "image/png": "[encoded data removed]",
      "text/plain": [
       "<Figure size 640x480 with 1 Axes>"
      ]
     },
     "metadata": {},
     "output_type": "display_data"
    }
   ],
   "source": [
    "#code from old assg to work from:\n",
    "x = np.linspace(0,10,5)\n",
    "\n",
    "def parabola(x):\n",
    "    return x**2\n",
    "\n",
    "# Generate y-values for the parabola using the x-values from np.linspace\n",
    "y_parabola = parabola(x)\n",
    "\n",
    "# Plot the parabola using plt.plot\n",
    "plt.plot(x, y_parabola)\n",
    "\n",
    "# Show the plot\n",
    "plt.show(parabola)\n"
   ]
  },
  {
   "cell_type": "code",
   "execution_count": 246,
   "id": "e7703be8-f93d-42ea-a12d-5322b6738166",
   "metadata": {},
   "outputs": [],
   "source": [
    "#Beginning plot code for C \n",
    "\n",
    "C = np.linspace(0,10,5)\n",
    "\n",
    "#Formula of C\n",
    "def C_formula(F0, m, omega_0, omega, gamma):\n",
    "    return (F0/m)/np.sqrt((omega_0^2 - omega^2)^2 + 4 * gamma^2 * omega^2)\n",
    "    \n",
    "def plot_solution(F0=1, m=1, omega_0 =1, dt=0.1):\n",
    "    t_vals, euler_vals = euler_method(gamma, y0, t_end, dt)\n",
    "    analytic_vals = analytic_solution(gamma, y0, t_vals)\n",
    "    \n",
    "    plt.plot(t_vals, euler_vals, label=\"Euler Method\", color='blue', marker='.', markersize=10)\n",
    "    plt.plot(t_vals, analytic_vals, label=\"Analytic Solution\", color='purple', linestyle='dashed')\n",
    "    plt.xlabel('Time')\n",
    "    plt.ylabel('y(t)')\n",
    "    plt.legend()\n",
    "    plt.title(f\"Comparison of Euler and Analytic Solutions (dt={dt})\")\n",
    "    plt.show()\n"
   ]
  },
  {
   "cell_type": "code",
   "execution_count": 245,
   "id": "23439619-535e-47e7-b498-b856292f8768",
   "metadata": {},
   "outputs": [
    {
     "data": {
      "text/plain": [
       "array([ 0. ,  2.5,  5. ,  7.5, 10. ])"
      ]
     },
     "execution_count": 245,
     "metadata": {},
     "output_type": "execute_result"
    }
   ],
   "source": []
  },
  {
   "cell_type": "code",
   "execution_count": null,
   "id": "f6c4ca54-8cc6-4d3c-9fc1-4c058b973c2b",
   "metadata": {},
   "outputs": [],
   "source": []
  }
 ],
 "metadata": {
  "kernelspec": {
   "display_name": "Python 3 (ipykernel)",
   "language": "python",
   "name": "python3"
  },
  "language_info": {
   "codemirror_mode": {
    "name": "ipython",
    "version": 3
   },
   "file_extension": ".py",
   "mimetype": "text/x-python",
   "name": "python",
   "nbconvert_exporter": "python",
   "pygments_lexer": "ipython3",
   "version": "3.9.19"
  }
 },
 "nbformat": 4,
 "nbformat_minor": 5
}
